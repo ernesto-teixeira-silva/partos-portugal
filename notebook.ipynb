{
 "cells": [
  {
   "cell_type": "code",
   "execution_count": 1,
   "metadata": {},
   "outputs": [],
   "source": [
    "import pandas as pd\n",
    "import numpy as np\n",
    "import bar_chart_race as bcr"
   ]
  },
  {
   "cell_type": "code",
   "execution_count": 2,
   "metadata": {},
   "outputs": [],
   "source": [
    "df = pd.read_csv('partos_hospitais_publicos.csv')"
   ]
  },
  {
   "cell_type": "code",
   "execution_count": 3,
   "metadata": {},
   "outputs": [],
   "source": [
    "df = df.loc[df['período'].str[5:] == '12']\n",
    "df['percent_cesarianas_ano'] = df['percent_cesarianas_ano'].astype(float)\n",
    "df['período'] = pd.to_datetime(df['período'])"
   ]
  },
  {
   "cell_type": "code",
   "execution_count": 4,
   "metadata": {},
   "outputs": [],
   "source": [
    "race_regioes = df[['região', 'percent_cesarianas_ano', 'período']]\n",
    "race_regioes = race_regioes.pivot_table(\n",
    "    values='percent_cesarianas_ano', index='período', columns='região', aggfunc=np.mean)\n",
    "\n",
    "#race_regioes"
   ]
  },
  {
   "cell_type": "code",
   "execution_count": 5,
   "metadata": {},
   "outputs": [
    {
     "name": "stderr",
     "output_type": "stream",
     "text": [
      "c:\\Users\\ernes\\anaconda3\\envs\\p06_partos_pt\\lib\\site-packages\\bar_chart_race\\_make_chart.py:286: UserWarning: FixedFormatter should only be used together with FixedLocator\n",
      "  ax.set_yticklabels(self.df_values.columns)\n",
      "c:\\Users\\ernes\\anaconda3\\envs\\p06_partos_pt\\lib\\site-packages\\bar_chart_race\\_make_chart.py:287: UserWarning: FixedFormatter should only be used together with FixedLocator\n",
      "  ax.set_xticklabels([max_val] * len(ax.get_xticks()))\n"
     ]
    }
   ],
   "source": [
    "bcr.bar_chart_race(df=race_regioes,\n",
    "                    filename='race.mp4',\n",
    "                    n_bars=6,\n",
    "                    fixed_order=['Região de Saúde Norte',\n",
    "                                 'Região de Saúde do Centro',\n",
    "                                 'Região de Saúde LVT',\n",
    "                                 'Região de Saúde do Alentejo',\n",
    "                                 'Região de Saúde do Algarve'],\n",
    "                    fixed_max=True,\n",
    "                    steps_per_period=5,\n",
    "                    label_bars=True,\n",
    "                    title_size='smaller',\n",
    "                    bar_label_size=5,\n",
    "                    tick_label_size=5,\n",
    "                    bar_size=.95,\n",
    "                    period_label={'x': .99, 'y': .95,\n",
    "                                  'ha': 'right', 'va': 'center', 'color': 'red'},\n",
    "                    period_fmt='%Y',\n",
    "                    perpendicular_bar_func='median', \n",
    "                    period_length=3000,\n",
    "                    cmap='Set1',\n",
    "                    figsize=(4, 3), title=\"% Cesarianas\")\n"
   ]
  }
 ],
 "metadata": {
  "interpreter": {
   "hash": "a7c538a76647923160d20f17f79ddd7517b15d4fd2204e900aa09561f3227296"
  },
  "kernelspec": {
   "display_name": "Python 3.10.4 ('p06_partos_pt')",
   "language": "python",
   "name": "python3"
  },
  "language_info": {
   "codemirror_mode": {
    "name": "ipython",
    "version": 3
   },
   "file_extension": ".py",
   "mimetype": "text/x-python",
   "name": "python",
   "nbconvert_exporter": "python",
   "pygments_lexer": "ipython3",
   "version": "3.10.4"
  },
  "orig_nbformat": 4
 },
 "nbformat": 4,
 "nbformat_minor": 2
}
